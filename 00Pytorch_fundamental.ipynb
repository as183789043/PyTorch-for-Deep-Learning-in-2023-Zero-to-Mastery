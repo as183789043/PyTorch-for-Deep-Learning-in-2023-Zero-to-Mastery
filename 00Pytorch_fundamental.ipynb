{
  "nbformat": 4,
  "nbformat_minor": 0,
  "metadata": {
    "colab": {
      "provenance": [],
      "gpuType": "T4",
      "authorship_tag": "ABX9TyNJSP6UJEOsBlxlkjQ7dPD6",
      "include_colab_link": true
    },
    "kernelspec": {
      "name": "python3",
      "display_name": "Python 3"
    },
    "language_info": {
      "name": "python"
    },
    "accelerator": "GPU"
  },
  "cells": [
    {
      "cell_type": "markdown",
      "metadata": {
        "id": "view-in-github",
        "colab_type": "text"
      },
      "source": [
        "<a href=\"https://colab.research.google.com/github/as183789043/PyTorch-for-Deep-Learning-in-2023-Zero-to-Mastery/blob/main/00Pytorch_fundamental.ipynb\" target=\"_parent\"><img src=\"https://colab.research.google.com/assets/colab-badge.svg\" alt=\"Open In Colab\"/></a>"
      ]
    },
    {
      "cell_type": "markdown",
      "source": [
        "## Udemy Pytorch 環境快速開始設定\n",
        "\n"
      ],
      "metadata": {
        "id": "dZXfJYlHD4ec"
      }
    },
    {
      "cell_type": "code",
      "execution_count": 1,
      "metadata": {
        "id": "QZtM2xBGDlGu"
      },
      "outputs": [],
      "source": [
        "import pandas as pd\n",
        "import numpy as np\n",
        "import matplotlib.pyplot as plt\n",
        "import torch"
      ]
    },
    {
      "cell_type": "code",
      "source": [
        "print(torch.__version__)"
      ],
      "metadata": {
        "colab": {
          "base_uri": "https://localhost:8080/"
        },
        "id": "4uRSYIk9EbIL",
        "outputId": "cf4158e0-2354-48cd-c53b-b4d03785105f"
      },
      "execution_count": 2,
      "outputs": [
        {
          "output_type": "stream",
          "name": "stdout",
          "text": [
            "2.1.0+cu121\n"
          ]
        }
      ]
    },
    {
      "cell_type": "code",
      "source": [
        "!nvidia-smi"
      ],
      "metadata": {
        "colab": {
          "base_uri": "https://localhost:8080/"
        },
        "id": "zNs3HwP8Ehln",
        "outputId": "6eddc6e8-47bf-4a4c-bca4-55595377c0f4"
      },
      "execution_count": 3,
      "outputs": [
        {
          "output_type": "stream",
          "name": "stdout",
          "text": [
            "Fri Dec 22 13:04:24 2023       \n",
            "+---------------------------------------------------------------------------------------+\n",
            "| NVIDIA-SMI 535.104.05             Driver Version: 535.104.05   CUDA Version: 12.2     |\n",
            "|-----------------------------------------+----------------------+----------------------+\n",
            "| GPU  Name                 Persistence-M | Bus-Id        Disp.A | Volatile Uncorr. ECC |\n",
            "| Fan  Temp   Perf          Pwr:Usage/Cap |         Memory-Usage | GPU-Util  Compute M. |\n",
            "|                                         |                      |               MIG M. |\n",
            "|=========================================+======================+======================|\n",
            "|   0  Tesla T4                       Off | 00000000:00:04.0 Off |                    0 |\n",
            "| N/A   66C    P8              11W /  70W |      0MiB / 15360MiB |      0%      Default |\n",
            "|                                         |                      |                  N/A |\n",
            "+-----------------------------------------+----------------------+----------------------+\n",
            "                                                                                         \n",
            "+---------------------------------------------------------------------------------------+\n",
            "| Processes:                                                                            |\n",
            "|  GPU   GI   CI        PID   Type   Process name                            GPU Memory |\n",
            "|        ID   ID                                                             Usage      |\n",
            "|=======================================================================================|\n",
            "|  No running processes found                                                           |\n",
            "+---------------------------------------------------------------------------------------+\n"
          ]
        }
      ]
    },
    {
      "cell_type": "markdown",
      "source": [
        "## Introduction Tensor\n",
        "create Pytorch Tensor using function => `torch.tensor()`"
      ],
      "metadata": {
        "id": "zAceGQRmFxGz"
      }
    },
    {
      "cell_type": "code",
      "source": [
        "#scalar\n",
        "scalar = torch.tensor(7)\n",
        "print(scalar)"
      ],
      "metadata": {
        "colab": {
          "base_uri": "https://localhost:8080/"
        },
        "id": "W4zgkv96GJkU",
        "outputId": "4dcf7a68-d5fb-46cb-ef90-bfa60e5ada5d"
      },
      "execution_count": 4,
      "outputs": [
        {
          "output_type": "stream",
          "name": "stdout",
          "text": [
            "tensor(7)\n"
          ]
        }
      ]
    },
    {
      "cell_type": "code",
      "source": [
        "# get ndim\n",
        "print(scalar.ndim)"
      ],
      "metadata": {
        "colab": {
          "base_uri": "https://localhost:8080/"
        },
        "id": "EzQ1GUuCGRB_",
        "outputId": "c0a1a382-dc0f-4cf6-feb3-c45004989684"
      },
      "execution_count": 5,
      "outputs": [
        {
          "output_type": "stream",
          "name": "stdout",
          "text": [
            "0\n"
          ]
        }
      ]
    },
    {
      "cell_type": "code",
      "source": [
        "#get tensor back as pytohn  int\n",
        "scalar.item()\n"
      ],
      "metadata": {
        "colab": {
          "base_uri": "https://localhost:8080/"
        },
        "id": "XKTvbiEmHgcV",
        "outputId": "254731ae-a7f6-4cf4-ac90-09ca5d8ec67a"
      },
      "execution_count": 6,
      "outputs": [
        {
          "output_type": "execute_result",
          "data": {
            "text/plain": [
              "7"
            ]
          },
          "metadata": {},
          "execution_count": 6
        }
      ]
    },
    {
      "cell_type": "code",
      "source": [
        "# if i want create a vector\n",
        "vector = torch.tensor([7,7])\n",
        "print(vector)"
      ],
      "metadata": {
        "colab": {
          "base_uri": "https://localhost:8080/"
        },
        "id": "lSi93A1kHlDa",
        "outputId": "e523036e-f969-4f80-92db-d9670872ecc1"
      },
      "execution_count": 7,
      "outputs": [
        {
          "output_type": "stream",
          "name": "stdout",
          "text": [
            "tensor([7, 7])\n"
          ]
        }
      ]
    },
    {
      "cell_type": "code",
      "source": [
        "# get ndim\n",
        "vector.ndim"
      ],
      "metadata": {
        "colab": {
          "base_uri": "https://localhost:8080/"
        },
        "id": "yZvfpOgTHxbZ",
        "outputId": "f0fe9c2e-1991-4ac5-af22-92d8ab49529a"
      },
      "execution_count": 8,
      "outputs": [
        {
          "output_type": "execute_result",
          "data": {
            "text/plain": [
              "1"
            ]
          },
          "metadata": {},
          "execution_count": 8
        }
      ]
    },
    {
      "cell_type": "code",
      "source": [
        "# create matrix\n",
        "matrix = torch.tensor([\n",
        "    [7,7],\n",
        "    [8,8]]\n",
        ")\n",
        "matrix\n"
      ],
      "metadata": {
        "colab": {
          "base_uri": "https://localhost:8080/"
        },
        "id": "Elv_A8vaIbE_",
        "outputId": "0b256106-b6c1-48a7-f02e-4ed5486b6d7d"
      },
      "execution_count": 9,
      "outputs": [
        {
          "output_type": "execute_result",
          "data": {
            "text/plain": [
              "tensor([[7, 7],\n",
              "        [8, 8]])"
            ]
          },
          "metadata": {},
          "execution_count": 9
        }
      ]
    },
    {
      "cell_type": "code",
      "source": [
        "#grt metrix ndim and shape and size\n",
        "matrix.ndim\n"
      ],
      "metadata": {
        "colab": {
          "base_uri": "https://localhost:8080/"
        },
        "id": "co5x_pqEIXFg",
        "outputId": "08e26c14-270c-4cb2-aabe-6ae51306870c"
      },
      "execution_count": 10,
      "outputs": [
        {
          "output_type": "execute_result",
          "data": {
            "text/plain": [
              "2"
            ]
          },
          "metadata": {},
          "execution_count": 10
        }
      ]
    },
    {
      "cell_type": "code",
      "source": [
        "matrix.shape"
      ],
      "metadata": {
        "colab": {
          "base_uri": "https://localhost:8080/"
        },
        "id": "y_OkfNcBIvuI",
        "outputId": "f7046264-0a50-4664-e413-ff90e5fbd35c"
      },
      "execution_count": 11,
      "outputs": [
        {
          "output_type": "execute_result",
          "data": {
            "text/plain": [
              "torch.Size([2, 2])"
            ]
          },
          "metadata": {},
          "execution_count": 11
        }
      ]
    },
    {
      "cell_type": "code",
      "source": [
        "matrix[0]"
      ],
      "metadata": {
        "colab": {
          "base_uri": "https://localhost:8080/"
        },
        "id": "dvyLD7HpI6pW",
        "outputId": "95c316c6-e83e-473f-e71b-32a64b936643"
      },
      "execution_count": 12,
      "outputs": [
        {
          "output_type": "execute_result",
          "data": {
            "text/plain": [
              "tensor([7, 7])"
            ]
          },
          "metadata": {},
          "execution_count": 12
        }
      ]
    },
    {
      "cell_type": "code",
      "source": [
        "# tenosr\n",
        "tensor = torch.tensor([[[1,2,3],\n",
        "            [3.,6,9],\n",
        "            [2,4,5]]])\n",
        "tensor"
      ],
      "metadata": {
        "colab": {
          "base_uri": "https://localhost:8080/"
        },
        "id": "M-jDjRpyJGTs",
        "outputId": "a748187d-b250-415a-e7fe-199e64a562a8"
      },
      "execution_count": 13,
      "outputs": [
        {
          "output_type": "execute_result",
          "data": {
            "text/plain": [
              "tensor([[[1., 2., 3.],\n",
              "         [3., 6., 9.],\n",
              "         [2., 4., 5.]]])"
            ]
          },
          "metadata": {},
          "execution_count": 13
        }
      ]
    },
    {
      "cell_type": "code",
      "source": [
        "tensor.ndim"
      ],
      "metadata": {
        "colab": {
          "base_uri": "https://localhost:8080/"
        },
        "id": "3C9Wt-a2JWyY",
        "outputId": "8735c875-c131-4023-fa8a-e591d682d10f"
      },
      "execution_count": 14,
      "outputs": [
        {
          "output_type": "execute_result",
          "data": {
            "text/plain": [
              "3"
            ]
          },
          "metadata": {},
          "execution_count": 14
        }
      ]
    },
    {
      "cell_type": "code",
      "source": [
        "tensor.shape"
      ],
      "metadata": {
        "colab": {
          "base_uri": "https://localhost:8080/"
        },
        "id": "dv_6TDXeJaDH",
        "outputId": "79ba5050-fe29-4974-d5ec-7bd1d617a615"
      },
      "execution_count": 15,
      "outputs": [
        {
          "output_type": "execute_result",
          "data": {
            "text/plain": [
              "torch.Size([1, 3, 3])"
            ]
          },
          "metadata": {},
          "execution_count": 15
        }
      ]
    },
    {
      "cell_type": "markdown",
      "source": [
        "## Random Tensor"
      ],
      "metadata": {
        "id": "a7a8ImnfL_uu"
      }
    },
    {
      "cell_type": "code",
      "source": [
        "## Random Tensor\n",
        "## Why random tensor ?\n",
        "'''Random tensor are important because the way many neural networks learn is that they start with tensor  furll of random nunbers and then adjust those random random numbers to etter represent the data'''"
      ],
      "metadata": {
        "id": "PfmW2E8vJa4X",
        "colab": {
          "base_uri": "https://localhost:8080/",
          "height": 52
        },
        "outputId": "fdb29222-b414-4348-d27f-d3273142c7c0"
      },
      "execution_count": 16,
      "outputs": [
        {
          "output_type": "execute_result",
          "data": {
            "text/plain": [
              "'Random tensor are important because the way many neural networks learn is that they start with tensor  furll of random nunbers and then adjust those random random numbers to etter represent the data'"
            ],
            "application/vnd.google.colaboratory.intrinsic+json": {
              "type": "string"
            }
          },
          "metadata": {},
          "execution_count": 16
        }
      ]
    },
    {
      "cell_type": "markdown",
      "source": [
        "`start with random numbers -> look at data -> update random numbers -> look at data -> update random nunbers`"
      ],
      "metadata": {
        "id": "fat_sOBnNMbY"
      }
    },
    {
      "cell_type": "code",
      "source": [
        "# create a random tensor of size(3,4)\n",
        "random_tensor = torch.rand(3,4)\n",
        "random_tensor"
      ],
      "metadata": {
        "colab": {
          "base_uri": "https://localhost:8080/"
        },
        "id": "vKijYlPSNZ-Z",
        "outputId": "c3e5b130-cb77-4a92-9896-39fa76752c10"
      },
      "execution_count": 17,
      "outputs": [
        {
          "output_type": "execute_result",
          "data": {
            "text/plain": [
              "tensor([[0.7235, 0.4450, 0.8545, 0.1503],\n",
              "        [0.7956, 0.9622, 0.5098, 0.5281],\n",
              "        [0.1024, 0.5982, 0.8715, 0.0576]])"
            ]
          },
          "metadata": {},
          "execution_count": 17
        }
      ]
    },
    {
      "cell_type": "code",
      "source": [
        "random_tensor.ndim"
      ],
      "metadata": {
        "colab": {
          "base_uri": "https://localhost:8080/"
        },
        "id": "C_6J6Hf8NbN9",
        "outputId": "4bb5603d-45f2-49b8-c9a8-0a23f116f0b3"
      },
      "execution_count": 18,
      "outputs": [
        {
          "output_type": "execute_result",
          "data": {
            "text/plain": [
              "2"
            ]
          },
          "metadata": {},
          "execution_count": 18
        }
      ]
    },
    {
      "cell_type": "code",
      "source": [
        "# create a random tensor with simliar shape to an image tensor\n",
        "random_image_size_tensor=torch.rand(size=(3,244,244,)) #height,width,colur channel\n",
        "random_image_size_tensor.shape,random_image_size_tensor.ndim"
      ],
      "metadata": {
        "colab": {
          "base_uri": "https://localhost:8080/"
        },
        "id": "tfJ9WD0mNqzJ",
        "outputId": "67bd01b8-8cff-4fc7-91b6-b00e57ae0e48"
      },
      "execution_count": 19,
      "outputs": [
        {
          "output_type": "execute_result",
          "data": {
            "text/plain": [
              "(torch.Size([3, 244, 244]), 3)"
            ]
          },
          "metadata": {},
          "execution_count": 19
        }
      ]
    },
    {
      "cell_type": "markdown",
      "source": [
        "### Zero And Ones"
      ],
      "metadata": {
        "id": "AtAKMdtdXmJT"
      }
    },
    {
      "cell_type": "code",
      "source": [
        "# create a tensor of all ones\n",
        "zero = torch.zeros(size=(3,4))\n",
        "zero"
      ],
      "metadata": {
        "id": "got_E3wdOPLM",
        "colab": {
          "base_uri": "https://localhost:8080/"
        },
        "outputId": "8a9422b4-d294-4168-c9df-dd800bb9c3df"
      },
      "execution_count": 20,
      "outputs": [
        {
          "output_type": "execute_result",
          "data": {
            "text/plain": [
              "tensor([[0., 0., 0., 0.],\n",
              "        [0., 0., 0., 0.],\n",
              "        [0., 0., 0., 0.]])"
            ]
          },
          "metadata": {},
          "execution_count": 20
        }
      ]
    },
    {
      "cell_type": "code",
      "source": [
        "## create a tensor of ones\n",
        "ones = torch.ones(size=(5,5))\n",
        "ones"
      ],
      "metadata": {
        "colab": {
          "base_uri": "https://localhost:8080/"
        },
        "id": "dg9Q2LiMXtMs",
        "outputId": "b3ac3065-f901-457c-a619-9b9b32fb3e75"
      },
      "execution_count": 21,
      "outputs": [
        {
          "output_type": "execute_result",
          "data": {
            "text/plain": [
              "tensor([[1., 1., 1., 1., 1.],\n",
              "        [1., 1., 1., 1., 1.],\n",
              "        [1., 1., 1., 1., 1.],\n",
              "        [1., 1., 1., 1., 1.],\n",
              "        [1., 1., 1., 1., 1.]])"
            ]
          },
          "metadata": {},
          "execution_count": 21
        }
      ]
    },
    {
      "cell_type": "code",
      "source": [
        "ones.dtype"
      ],
      "metadata": {
        "colab": {
          "base_uri": "https://localhost:8080/"
        },
        "id": "NN2Kk6yLXznG",
        "outputId": "7a7c73de-5be4-4ac2-b93c-1f30f35de1c3"
      },
      "execution_count": 22,
      "outputs": [
        {
          "output_type": "execute_result",
          "data": {
            "text/plain": [
              "torch.float32"
            ]
          },
          "metadata": {},
          "execution_count": 22
        }
      ]
    },
    {
      "cell_type": "markdown",
      "source": [
        "### Create a range of tensors and tensors-like"
      ],
      "metadata": {
        "id": "1n3Bn0q7Ycaf"
      }
    },
    {
      "cell_type": "code",
      "source": [
        "# use torch.arage()\n",
        "one_to_ten=torch.arange(start=0,end=10,step=1)\n",
        "one_to_ten"
      ],
      "metadata": {
        "colab": {
          "base_uri": "https://localhost:8080/"
        },
        "id": "spRDqpa-YM0r",
        "outputId": "1609676c-9857-415d-df29-a10101754439"
      },
      "execution_count": 23,
      "outputs": [
        {
          "output_type": "execute_result",
          "data": {
            "text/plain": [
              "tensor([0, 1, 2, 3, 4, 5, 6, 7, 8, 9])"
            ]
          },
          "metadata": {},
          "execution_count": 23
        }
      ]
    },
    {
      "cell_type": "code",
      "source": [
        "# create  tensor like\n",
        "ten_zeros=torch.zeros_like(input=one_to_ten)\n",
        "ten_zeros"
      ],
      "metadata": {
        "colab": {
          "base_uri": "https://localhost:8080/"
        },
        "id": "Xfqu7mhLYnkn",
        "outputId": "28ecf75f-9b03-4e31-dcef-b536b18abc06"
      },
      "execution_count": 24,
      "outputs": [
        {
          "output_type": "execute_result",
          "data": {
            "text/plain": [
              "tensor([0, 0, 0, 0, 0, 0, 0, 0, 0, 0])"
            ]
          },
          "metadata": {},
          "execution_count": 24
        }
      ]
    },
    {
      "cell_type": "markdown",
      "source": [
        "## Tensor datatypes\n",
        "**Note** Tensor Big Question of 3\n",
        "- Tensor not right dtype\n",
        "- Tensor not right shape\n",
        "- Tensor not on  right device"
      ],
      "metadata": {
        "id": "_mS19YEEZYTj"
      }
    },
    {
      "cell_type": "code",
      "source": [
        "# Float 32\n",
        "float_16_tensor = torch.tensor([3.0,6.0,9.0],\n",
        "                dtype=torch.float16,\n",
        "                device=\"cuda\",\n",
        "                requires_grad=False)\n",
        "float_16_tensor.dtype"
      ],
      "metadata": {
        "colab": {
          "base_uri": "https://localhost:8080/"
        },
        "id": "kdmtNujwZX23",
        "outputId": "0cd574de-1ec3-4aea-8bc4-27e1ef417bfd"
      },
      "execution_count": 25,
      "outputs": [
        {
          "output_type": "execute_result",
          "data": {
            "text/plain": [
              "torch.float16"
            ]
          },
          "metadata": {},
          "execution_count": 25
        }
      ]
    },
    {
      "cell_type": "code",
      "source": [
        "## Convert dtype\n",
        "float_32_tensor = float_16_tensor.type(torch.float32)\n",
        "float_32_tensor.dtype\n",
        "float_32_tensor.device"
      ],
      "metadata": {
        "colab": {
          "base_uri": "https://localhost:8080/"
        },
        "id": "IjizsUcFZCME",
        "outputId": "0a2f4a53-2186-4b9e-9ff0-05c441c0e69c"
      },
      "execution_count": 26,
      "outputs": [
        {
          "output_type": "execute_result",
          "data": {
            "text/plain": [
              "device(type='cuda', index=0)"
            ]
          },
          "metadata": {},
          "execution_count": 26
        }
      ]
    },
    {
      "cell_type": "markdown",
      "source": [
        "## Get information for tensor\n",
        "- Tensor not right dtype  `<tensor.name>.dtyep`\n",
        "- Tensor not right shape  `<tensor.name>.shape`\n",
        "- Tensor not on  right device `<tensor.name>.device``"
      ],
      "metadata": {
        "id": "VGTFmnmRcI5K"
      }
    },
    {
      "cell_type": "code",
      "source": [
        "##　create a rand tenssor\n",
        "rand_tensor = torch.rand(size=(3,255,255))\n",
        "rand_tensor"
      ],
      "metadata": {
        "colab": {
          "base_uri": "https://localhost:8080/"
        },
        "id": "jaNK7NItbpA_",
        "outputId": "ae04708d-4e18-4e58-b924-4e6423905dfd"
      },
      "execution_count": 27,
      "outputs": [
        {
          "output_type": "execute_result",
          "data": {
            "text/plain": [
              "tensor([[[0.3769, 0.1472, 0.7762,  ..., 0.2292, 0.7984, 0.5126],\n",
              "         [0.4954, 0.5300, 0.9317,  ..., 0.8319, 0.7293, 0.7786],\n",
              "         [0.7675, 0.0772, 0.2136,  ..., 0.3407, 0.5140, 0.5744],\n",
              "         ...,\n",
              "         [0.6300, 0.2745, 0.5838,  ..., 0.6043, 0.7532, 0.5433],\n",
              "         [0.6920, 0.1127, 0.7104,  ..., 0.3576, 0.3381, 0.9376],\n",
              "         [0.0817, 0.8179, 0.1036,  ..., 0.7188, 0.6295, 0.0549]],\n",
              "\n",
              "        [[0.2471, 0.8939, 0.6899,  ..., 0.8407, 0.9295, 0.3270],\n",
              "         [0.4110, 0.7039, 0.5622,  ..., 0.7360, 0.4743, 0.0882],\n",
              "         [0.9849, 0.7828, 0.9966,  ..., 0.4087, 0.9250, 0.4457],\n",
              "         ...,\n",
              "         [0.3859, 0.1161, 0.2158,  ..., 0.4703, 0.7826, 0.8613],\n",
              "         [0.2855, 0.9003, 0.0455,  ..., 0.6448, 0.6993, 0.6707],\n",
              "         [0.9682, 0.2216, 0.4013,  ..., 0.6369, 0.2575, 0.8512]],\n",
              "\n",
              "        [[0.8122, 0.4710, 0.0537,  ..., 0.6321, 0.3144, 0.0384],\n",
              "         [0.8408, 0.3508, 0.7377,  ..., 0.5738, 0.5247, 0.6898],\n",
              "         [0.5031, 0.2880, 0.2762,  ..., 0.0034, 0.4219, 0.2682],\n",
              "         ...,\n",
              "         [0.3184, 0.3087, 0.0028,  ..., 0.9629, 0.6626, 0.7448],\n",
              "         [0.3753, 0.2718, 0.5351,  ..., 0.3393, 0.4434, 0.3420],\n",
              "         [0.0798, 0.4371, 0.8066,  ..., 0.0155, 0.0825, 0.1539]]])"
            ]
          },
          "metadata": {},
          "execution_count": 27
        }
      ]
    },
    {
      "cell_type": "code",
      "source": [
        "## Find out detail\n",
        "print(f\"rand_tensor_shape:  {tensor.shape}\")\n",
        "print(f\"rand_tensor_dtype:  {tensor.dtype}\")\n",
        "print(f\"rand_tensor_device:  {tensor.device}\")"
      ],
      "metadata": {
        "colab": {
          "base_uri": "https://localhost:8080/"
        },
        "id": "ptopuAdsdLM2",
        "outputId": "516743c3-d62f-4261-8037-6777af1959a8"
      },
      "execution_count": 28,
      "outputs": [
        {
          "output_type": "stream",
          "name": "stdout",
          "text": [
            "rand_tensor_shape:  torch.Size([1, 3, 3])\n",
            "rand_tensor_dtype:  torch.float32\n",
            "rand_tensor_device:  cpu\n"
          ]
        }
      ]
    },
    {
      "cell_type": "markdown",
      "source": [
        "## Manipulation Tensors (tensor operations)\n",
        "Teensor operations includes:\n",
        "- addition\n",
        "- subscration\n",
        "- multiplication (eement-wise)\n",
        "- division\n",
        "- matirx multiplication"
      ],
      "metadata": {
        "id": "aP-2E9ynfLTU"
      }
    },
    {
      "cell_type": "code",
      "source": [
        "## create a tensor to multiplication\n",
        "tesor_a =torch.tensor([1,2,3])\n",
        "print(tesor_a * tesor_a)   # 1*1 + 2*2 +3*3\n"
      ],
      "metadata": {
        "colab": {
          "base_uri": "https://localhost:8080/"
        },
        "id": "PePpAyzEna8x",
        "outputId": "6ff46f88-1643-4615-c7bd-e9db843ab111"
      },
      "execution_count": 29,
      "outputs": [
        {
          "output_type": "stream",
          "name": "stdout",
          "text": [
            "tensor([1, 4, 9])\n"
          ]
        }
      ]
    },
    {
      "cell_type": "code",
      "source": [
        "## creaqte a tensor\n",
        "tensor = torch.tensor([1,2,3])\n",
        "tensor +10"
      ],
      "metadata": {
        "colab": {
          "base_uri": "https://localhost:8080/"
        },
        "id": "yxKBDfp_daom",
        "outputId": "108145a3-42ae-4735-fddb-0118c8082098"
      },
      "execution_count": 36,
      "outputs": [
        {
          "output_type": "execute_result",
          "data": {
            "text/plain": [
              "tensor([11, 12, 13])"
            ]
          },
          "metadata": {},
          "execution_count": 36
        }
      ]
    },
    {
      "cell_type": "code",
      "source": [
        "tensor * 10"
      ],
      "metadata": {
        "colab": {
          "base_uri": "https://localhost:8080/"
        },
        "id": "ByT57eCKflwC",
        "outputId": "d937ca96-b216-4891-cc34-0647acc5c7c5"
      },
      "execution_count": 37,
      "outputs": [
        {
          "output_type": "execute_result",
          "data": {
            "text/plain": [
              "tensor([10, 20, 30])"
            ]
          },
          "metadata": {},
          "execution_count": 37
        }
      ]
    },
    {
      "cell_type": "code",
      "source": [
        "tensor / 2"
      ],
      "metadata": {
        "colab": {
          "base_uri": "https://localhost:8080/"
        },
        "id": "ZZHKxsSQfqVl",
        "outputId": "1b35dc3e-3a9d-4e75-cb10-66872758527f"
      },
      "execution_count": 38,
      "outputs": [
        {
          "output_type": "execute_result",
          "data": {
            "text/plain": [
              "tensor([0.5000, 1.0000, 1.5000])"
            ]
          },
          "metadata": {},
          "execution_count": 38
        }
      ]
    },
    {
      "cell_type": "code",
      "source": [
        "tensor -10"
      ],
      "metadata": {
        "colab": {
          "base_uri": "https://localhost:8080/"
        },
        "id": "B5sUswdofruZ",
        "outputId": "eb41801a-2134-4229-f8b5-62e18838ff6e"
      },
      "execution_count": 39,
      "outputs": [
        {
          "output_type": "execute_result",
          "data": {
            "text/plain": [
              "tensor([-9, -8, -7])"
            ]
          },
          "metadata": {},
          "execution_count": 39
        }
      ]
    },
    {
      "cell_type": "code",
      "source": [
        "#＃　use pytroch function\n",
        "tensor.mul(2)"
      ],
      "metadata": {
        "colab": {
          "base_uri": "https://localhost:8080/"
        },
        "id": "sC2W_5_qfuUS",
        "outputId": "80f5aa0b-fbed-4aff-b09a-b1a94ada5239"
      },
      "execution_count": 40,
      "outputs": [
        {
          "output_type": "execute_result",
          "data": {
            "text/plain": [
              "tensor([2, 4, 6])"
            ]
          },
          "metadata": {},
          "execution_count": 40
        }
      ]
    },
    {
      "cell_type": "markdown",
      "source": [
        "## matirx multiplication (dot product)\n",
        "### there are two rule performing matirx multiplication neesd to satisfy:\n",
        "1. The **inner dim** Must math\n",
        "- `(3,2)@*(3,2)` not work\n",
        "- `(3,2)@*(2,3)`  work\n",
        "- `(2,3)@*(3,2)`  work\n",
        "2. The result Matrix has the shape of the **outer dim**:\n",
        "- `(2,3)@(3,2)` -> `(2.2)`\n",
        "- `(3,2)@(2,3)` -> `(3.3)`\n"
      ],
      "metadata": {
        "id": "T9NYiadfgX5P"
      }
    },
    {
      "cell_type": "code",
      "source": [
        "test_torch = torch.rand(3,2)\n",
        "test_torch@test_torch   ## @ =matirx multiplication"
      ],
      "metadata": {
        "colab": {
          "base_uri": "https://localhost:8080/",
          "height": 195
        },
        "id": "0ZopfNAHf4q2",
        "outputId": "e100d447-9380-4727-8430-cbd27e067e1c"
      },
      "execution_count": 41,
      "outputs": [
        {
          "output_type": "error",
          "ename": "RuntimeError",
          "evalue": "ignored",
          "traceback": [
            "\u001b[0;31m---------------------------------------------------------------------------\u001b[0m",
            "\u001b[0;31mRuntimeError\u001b[0m                              Traceback (most recent call last)",
            "\u001b[0;32m<ipython-input-41-a9fa56d52ed5>\u001b[0m in \u001b[0;36m<cell line: 2>\u001b[0;34m()\u001b[0m\n\u001b[1;32m      1\u001b[0m \u001b[0mtest_torch\u001b[0m \u001b[0;34m=\u001b[0m \u001b[0mtorch\u001b[0m\u001b[0;34m.\u001b[0m\u001b[0mrand\u001b[0m\u001b[0;34m(\u001b[0m\u001b[0;36m3\u001b[0m\u001b[0;34m,\u001b[0m\u001b[0;36m2\u001b[0m\u001b[0;34m)\u001b[0m\u001b[0;34m\u001b[0m\u001b[0;34m\u001b[0m\u001b[0m\n\u001b[0;32m----> 2\u001b[0;31m \u001b[0mtest_torch\u001b[0m\u001b[0;34m@\u001b[0m\u001b[0mtest_torch\u001b[0m   \u001b[0;31m## @ =matirx multiplication\u001b[0m\u001b[0;34m\u001b[0m\u001b[0;34m\u001b[0m\u001b[0m\n\u001b[0m",
            "\u001b[0;31mRuntimeError\u001b[0m: mat1 and mat2 shapes cannot be multiplied (3x2 and 3x2)"
          ]
        }
      ]
    },
    {
      "cell_type": "code",
      "source": [
        "torch.matmul(test_torch,test_torch)"
      ],
      "metadata": {
        "id": "PQfRt6rShccv",
        "colab": {
          "base_uri": "https://localhost:8080/",
          "height": 178
        },
        "outputId": "d407c74f-53b9-4e2d-d82e-d3c5fb37b153"
      },
      "execution_count": 42,
      "outputs": [
        {
          "output_type": "error",
          "ename": "RuntimeError",
          "evalue": "ignored",
          "traceback": [
            "\u001b[0;31m---------------------------------------------------------------------------\u001b[0m",
            "\u001b[0;31mRuntimeError\u001b[0m                              Traceback (most recent call last)",
            "\u001b[0;32m<ipython-input-42-d092a6a64ada>\u001b[0m in \u001b[0;36m<cell line: 1>\u001b[0;34m()\u001b[0m\n\u001b[0;32m----> 1\u001b[0;31m \u001b[0mtorch\u001b[0m\u001b[0;34m.\u001b[0m\u001b[0mmatmul\u001b[0m\u001b[0;34m(\u001b[0m\u001b[0mtest_torch\u001b[0m\u001b[0;34m,\u001b[0m\u001b[0mtest_torch\u001b[0m\u001b[0;34m)\u001b[0m\u001b[0;34m\u001b[0m\u001b[0;34m\u001b[0m\u001b[0m\n\u001b[0m",
            "\u001b[0;31mRuntimeError\u001b[0m: mat1 and mat2 shapes cannot be multiplied (3x2 and 3x2)"
          ]
        }
      ]
    },
    {
      "cell_type": "code",
      "source": [
        "work_torch = torch.ones(2,3)\n",
        "torch.matmul(test_torch,work_torch)"
      ],
      "metadata": {
        "id": "E5UUjAjwhoiu",
        "colab": {
          "base_uri": "https://localhost:8080/"
        },
        "outputId": "80a3cfa4-3457-4d2a-f9eb-5d60a629bec0"
      },
      "execution_count": 43,
      "outputs": [
        {
          "output_type": "execute_result",
          "data": {
            "text/plain": [
              "tensor([[0.7759, 0.7759, 0.7759],\n",
              "        [0.3535, 0.3535, 0.3535],\n",
              "        [1.1449, 1.1449, 1.1449]])"
            ]
          },
          "metadata": {},
          "execution_count": 43
        }
      ]
    },
    {
      "cell_type": "markdown",
      "source": [
        "## One of the most commom errors in deep learning: shape errors"
      ],
      "metadata": {
        "id": "OUq1U3wZjS34"
      }
    },
    {
      "cell_type": "code",
      "source": [
        "#　Sapes for matrix multiplication\n",
        "tensor_A = torch.tensor([\n",
        "    [1,2],\n",
        "    [3,4],\n",
        "    [5,6]\n",
        "                         ])\n",
        "tensor_B = torch.tensor([\n",
        "    [7,10],\n",
        "    [8,11],\n",
        "    [9,12]\n",
        "                         ])\n",
        "\n",
        "torch.mm(tensor_A,tensor_B)  ## torch.mm == torch.malmul() alias\n"
      ],
      "metadata": {
        "id": "53NWpE9siDLW",
        "colab": {
          "base_uri": "https://localhost:8080/",
          "height": 213
        },
        "outputId": "b6cfc0e2-a12d-4f22-80a2-242493e50abc"
      },
      "execution_count": 44,
      "outputs": [
        {
          "output_type": "error",
          "ename": "RuntimeError",
          "evalue": "ignored",
          "traceback": [
            "\u001b[0;31m---------------------------------------------------------------------------\u001b[0m",
            "\u001b[0;31mRuntimeError\u001b[0m                              Traceback (most recent call last)",
            "\u001b[0;32m<ipython-input-44-cb2370fd751b>\u001b[0m in \u001b[0;36m<cell line: 13>\u001b[0;34m()\u001b[0m\n\u001b[1;32m     11\u001b[0m                          ])\n\u001b[1;32m     12\u001b[0m \u001b[0;34m\u001b[0m\u001b[0m\n\u001b[0;32m---> 13\u001b[0;31m \u001b[0mtorch\u001b[0m\u001b[0;34m.\u001b[0m\u001b[0mmm\u001b[0m\u001b[0;34m(\u001b[0m\u001b[0mtensor_A\u001b[0m\u001b[0;34m,\u001b[0m\u001b[0mtensor_B\u001b[0m\u001b[0;34m)\u001b[0m  \u001b[0;31m## torch.mm == torch.malmul() alias\u001b[0m\u001b[0;34m\u001b[0m\u001b[0;34m\u001b[0m\u001b[0m\n\u001b[0m",
            "\u001b[0;31mRuntimeError\u001b[0m: mat1 and mat2 shapes cannot be multiplied (3x2 and 3x2)"
          ]
        }
      ]
    },
    {
      "cell_type": "markdown",
      "source": [
        " TO fix our tensor shape issues , we can mainpulate the shape f one of our tesors using **transpose**"
      ],
      "metadata": {
        "id": "TkWy49I6kjWA"
      }
    },
    {
      "cell_type": "markdown",
      "source": [],
      "metadata": {
        "id": "iKZ8zyFlkm4d"
      }
    },
    {
      "cell_type": "code",
      "source": [
        "tensor_B.T"
      ],
      "metadata": {
        "id": "jeHhZ34blWEC",
        "colab": {
          "base_uri": "https://localhost:8080/"
        },
        "outputId": "e716c3e1-e9be-45ca-f581-693b2a40de15"
      },
      "execution_count": 45,
      "outputs": [
        {
          "output_type": "execute_result",
          "data": {
            "text/plain": [
              "tensor([[ 7,  8,  9],\n",
              "        [10, 11, 12]])"
            ]
          },
          "metadata": {},
          "execution_count": 45
        }
      ]
    },
    {
      "cell_type": "code",
      "source": [
        "tensor_B.T.shape"
      ],
      "metadata": {
        "id": "OMOtPS_3kK8l",
        "colab": {
          "base_uri": "https://localhost:8080/"
        },
        "outputId": "77072f80-6c04-47b0-c2cb-f69f3cfac5c9"
      },
      "execution_count": 46,
      "outputs": [
        {
          "output_type": "execute_result",
          "data": {
            "text/plain": [
              "torch.Size([2, 3])"
            ]
          },
          "metadata": {},
          "execution_count": 46
        }
      ]
    },
    {
      "cell_type": "code",
      "source": [
        "torch.mm(tensor_A,tensor_B.T)   #(3,2) @(2,3) **inner dim** match"
      ],
      "metadata": {
        "id": "yBTHPdu6kqjp",
        "colab": {
          "base_uri": "https://localhost:8080/"
        },
        "outputId": "4b6d3ca1-6495-4093-b7cf-58c047582385"
      },
      "execution_count": 47,
      "outputs": [
        {
          "output_type": "execute_result",
          "data": {
            "text/plain": [
              "tensor([[ 27,  30,  33],\n",
              "        [ 61,  68,  75],\n",
              "        [ 95, 106, 117]])"
            ]
          },
          "metadata": {},
          "execution_count": 47
        }
      ]
    },
    {
      "cell_type": "markdown",
      "source": [
        "## find the min,mx ,mean ,sum,etc (tensor aggreation))"
      ],
      "metadata": {
        "id": "meS9tFrVQM67"
      }
    },
    {
      "cell_type": "code",
      "source": [
        "# create a tensor\n",
        "x = torch.arange(0,100,10)\n",
        "x"
      ],
      "metadata": {
        "id": "aJ1333u-k3vI",
        "colab": {
          "base_uri": "https://localhost:8080/"
        },
        "outputId": "f5696928-95ab-4ec5-e803-1dcd1bcd7c0b"
      },
      "execution_count": 48,
      "outputs": [
        {
          "output_type": "execute_result",
          "data": {
            "text/plain": [
              "tensor([ 0, 10, 20, 30, 40, 50, 60, 70, 80, 90])"
            ]
          },
          "metadata": {},
          "execution_count": 48
        }
      ]
    },
    {
      "cell_type": "code",
      "source": [
        "#　min\n",
        "torch.min(x) ,x.min()"
      ],
      "metadata": {
        "id": "RLVnggI_k8eR",
        "colab": {
          "base_uri": "https://localhost:8080/"
        },
        "outputId": "9510c484-c618-4e68-a13f-1d461ec8b236"
      },
      "execution_count": 49,
      "outputs": [
        {
          "output_type": "execute_result",
          "data": {
            "text/plain": [
              "(tensor(0), tensor(0))"
            ]
          },
          "metadata": {},
          "execution_count": 49
        }
      ]
    },
    {
      "cell_type": "code",
      "source": [
        "# max\n",
        "torch.max(x) , x.max()"
      ],
      "metadata": {
        "id": "gaQQ8w7rQfT_",
        "colab": {
          "base_uri": "https://localhost:8080/"
        },
        "outputId": "b5be5406-db62-4b06-f5c8-668b84d68078"
      },
      "execution_count": 50,
      "outputs": [
        {
          "output_type": "execute_result",
          "data": {
            "text/plain": [
              "(tensor(90), tensor(90))"
            ]
          },
          "metadata": {},
          "execution_count": 50
        }
      ]
    },
    {
      "cell_type": "code",
      "source": [
        "torch.mean(x)"
      ],
      "metadata": {
        "id": "4earM834Qh49",
        "colab": {
          "base_uri": "https://localhost:8080/",
          "height": 178
        },
        "outputId": "cac4f2aa-c710-4b25-fad7-fce0782880b5"
      },
      "execution_count": 51,
      "outputs": [
        {
          "output_type": "error",
          "ename": "RuntimeError",
          "evalue": "ignored",
          "traceback": [
            "\u001b[0;31m---------------------------------------------------------------------------\u001b[0m",
            "\u001b[0;31mRuntimeError\u001b[0m                              Traceback (most recent call last)",
            "\u001b[0;32m<ipython-input-51-455868396db1>\u001b[0m in \u001b[0;36m<cell line: 1>\u001b[0;34m()\u001b[0m\n\u001b[0;32m----> 1\u001b[0;31m \u001b[0mtorch\u001b[0m\u001b[0;34m.\u001b[0m\u001b[0mmean\u001b[0m\u001b[0;34m(\u001b[0m\u001b[0mx\u001b[0m\u001b[0;34m)\u001b[0m\u001b[0;34m\u001b[0m\u001b[0;34m\u001b[0m\u001b[0m\n\u001b[0m",
            "\u001b[0;31mRuntimeError\u001b[0m: mean(): could not infer output dtype. Input dtype must be either a floating point or complex dtype. Got: Long"
          ]
        }
      ]
    },
    {
      "cell_type": "code",
      "source": [
        "x.dtype"
      ],
      "metadata": {
        "id": "P76N32WrSi9y"
      },
      "execution_count": null,
      "outputs": []
    },
    {
      "cell_type": "code",
      "source": [
        "## change type to use mean function\n",
        "torch.mean(x.type(torch.float32)) , x.type(torch.float32).mean()"
      ],
      "metadata": {
        "id": "xM3Ude3yS2qv",
        "colab": {
          "base_uri": "https://localhost:8080/"
        },
        "outputId": "a9e89ae5-c71d-4aa8-b926-7fef71586e91"
      },
      "execution_count": 52,
      "outputs": [
        {
          "output_type": "execute_result",
          "data": {
            "text/plain": [
              "(tensor(45.), tensor(45.))"
            ]
          },
          "metadata": {},
          "execution_count": 52
        }
      ]
    },
    {
      "cell_type": "code",
      "source": [
        "## find the sum\n",
        "x.sum(), torch.sum(x)"
      ],
      "metadata": {
        "id": "V_c5i0hbS907",
        "colab": {
          "base_uri": "https://localhost:8080/"
        },
        "outputId": "7b5c8ff1-26b2-4fcb-e5ca-5d9c8bfe7e83"
      },
      "execution_count": 53,
      "outputs": [
        {
          "output_type": "execute_result",
          "data": {
            "text/plain": [
              "(tensor(450), tensor(450))"
            ]
          },
          "metadata": {},
          "execution_count": 53
        }
      ]
    },
    {
      "cell_type": "markdown",
      "source": [
        "## find the poistion min and max"
      ],
      "metadata": {
        "id": "pirRkibpT5LO"
      }
    },
    {
      "cell_type": "code",
      "source": [
        "# find the position in tensor tat has th emin value with argmin()-> returns index poistion of target  tensor whrere rhe min value occurs\n",
        "x= torch.arange(0,100,10)\n",
        "x"
      ],
      "metadata": {
        "id": "ABLpLHPbTe_t",
        "colab": {
          "base_uri": "https://localhost:8080/"
        },
        "outputId": "57e0986c-b5fa-481b-f91a-1a65975b822c"
      },
      "execution_count": 54,
      "outputs": [
        {
          "output_type": "execute_result",
          "data": {
            "text/plain": [
              "tensor([ 0, 10, 20, 30, 40, 50, 60, 70, 80, 90])"
            ]
          },
          "metadata": {},
          "execution_count": 54
        }
      ]
    },
    {
      "cell_type": "code",
      "source": [
        "x[1]"
      ],
      "metadata": {
        "id": "yUDkisgWUjaZ",
        "colab": {
          "base_uri": "https://localhost:8080/"
        },
        "outputId": "9215ee5b-a251-4a21-bf3c-8425648a522b"
      },
      "execution_count": 55,
      "outputs": [
        {
          "output_type": "execute_result",
          "data": {
            "text/plain": [
              "tensor(10)"
            ]
          },
          "metadata": {},
          "execution_count": 55
        }
      ]
    },
    {
      "cell_type": "code",
      "source": [
        "x.argmin()"
      ],
      "metadata": {
        "id": "XG0e_FUPUdR3",
        "colab": {
          "base_uri": "https://localhost:8080/"
        },
        "outputId": "7c5dfdb5-658b-453f-e48a-c4a473be48bf"
      },
      "execution_count": 56,
      "outputs": [
        {
          "output_type": "execute_result",
          "data": {
            "text/plain": [
              "tensor(0)"
            ]
          },
          "metadata": {},
          "execution_count": 56
        }
      ]
    },
    {
      "cell_type": "code",
      "source": [
        "x.argmax()"
      ],
      "metadata": {
        "id": "h03dtY9WUel1",
        "colab": {
          "base_uri": "https://localhost:8080/"
        },
        "outputId": "88598943-0ae1-4be5-90ee-3fb4636c7f76"
      },
      "execution_count": 57,
      "outputs": [
        {
          "output_type": "execute_result",
          "data": {
            "text/plain": [
              "tensor(9)"
            ]
          },
          "metadata": {},
          "execution_count": 57
        }
      ]
    },
    {
      "cell_type": "markdown",
      "source": [
        "## Reshaping, stacking, squeezing, and unsqueezing tensors\n",
        "- Reshaping -> reshapes an input tensor to a defined shape\n",
        "- View   -> Returrn a vuew of an input tensor of certain shape but keep the same meory as the origin tensor\n",
        "- Stacking -> combine multiple tenosor on top of each other or side by sideby side  (hstack)\n",
        "- squeeze -> remoce all `1` dimension from a tensor\n",
        "- unsqueeze -> add a `1` dimension to  a target  tensor\n",
        "- Permute -> Return a view of the input with dimensions prtmuted(swapped) in a certain way\n"
      ],
      "metadata": {
        "id": "eqXPNw5dUsdj"
      }
    },
    {
      "cell_type": "code",
      "source": [
        "#　create a tensor\n",
        "import torch\n",
        "x=torch.arange(1.,10.)\n",
        "x,x.shape\n"
      ],
      "metadata": {
        "id": "XfgwrcdvUg5m",
        "colab": {
          "base_uri": "https://localhost:8080/"
        },
        "outputId": "a261aabf-adf8-4878-9768-c0aab9707c53"
      },
      "execution_count": 58,
      "outputs": [
        {
          "output_type": "execute_result",
          "data": {
            "text/plain": [
              "(tensor([1., 2., 3., 4., 5., 6., 7., 8., 9.]), torch.Size([9]))"
            ]
          },
          "metadata": {},
          "execution_count": 58
        }
      ]
    },
    {
      "cell_type": "code",
      "source": [
        "#　add an extra dimension\n",
        "x_reshaped= x.reshape(3,3)\n",
        "x_reshaped\n"
      ],
      "metadata": {
        "id": "zO4ZG1yfWIP-",
        "colab": {
          "base_uri": "https://localhost:8080/"
        },
        "outputId": "033c1960-8482-4e90-d2cd-a9c41dc47fba"
      },
      "execution_count": 59,
      "outputs": [
        {
          "output_type": "execute_result",
          "data": {
            "text/plain": [
              "tensor([[1., 2., 3.],\n",
              "        [4., 5., 6.],\n",
              "        [7., 8., 9.]])"
            ]
          },
          "metadata": {},
          "execution_count": 59
        }
      ]
    },
    {
      "cell_type": "code",
      "source": [
        "# chage the view\n",
        "z =x.view(1,9)\n",
        "z,z.shape"
      ],
      "metadata": {
        "id": "fON8UR3jWQpE",
        "colab": {
          "base_uri": "https://localhost:8080/"
        },
        "outputId": "1894f3f6-5e9e-4102-cf98-8f3a0171df4f"
      },
      "execution_count": 60,
      "outputs": [
        {
          "output_type": "execute_result",
          "data": {
            "text/plain": [
              "(tensor([[1., 2., 3., 4., 5., 6., 7., 8., 9.]]), torch.Size([1, 9]))"
            ]
          },
          "metadata": {},
          "execution_count": 60
        }
      ]
    },
    {
      "cell_type": "code",
      "source": [
        "# change z to x (beacuse a view of a tensor shares the same memory as the original input)\n",
        "z[0,:] =5\n",
        "z,x"
      ],
      "metadata": {
        "id": "Bl33BDmYWrvF",
        "colab": {
          "base_uri": "https://localhost:8080/"
        },
        "outputId": "07abfdce-8f97-4c0a-c181-b3a6b18a145d"
      },
      "execution_count": 61,
      "outputs": [
        {
          "output_type": "execute_result",
          "data": {
            "text/plain": [
              "(tensor([[5., 5., 5., 5., 5., 5., 5., 5., 5.]]),\n",
              " tensor([5., 5., 5., 5., 5., 5., 5., 5., 5.]))"
            ]
          },
          "metadata": {},
          "execution_count": 61
        }
      ]
    },
    {
      "cell_type": "code",
      "source": [
        "## stack  tensor on top of each other\n",
        "x_stacked = torch.stack([x,x,x,x,x],dim=2)\n",
        "x_stacked\n"
      ],
      "metadata": {
        "id": "mIsvhVppW_0Y",
        "colab": {
          "base_uri": "https://localhost:8080/",
          "height": 213
        },
        "outputId": "34af86e7-c9f9-41f9-b002-89b301bd5f7d"
      },
      "execution_count": 62,
      "outputs": [
        {
          "output_type": "error",
          "ename": "IndexError",
          "evalue": "ignored",
          "traceback": [
            "\u001b[0;31m---------------------------------------------------------------------------\u001b[0m",
            "\u001b[0;31mIndexError\u001b[0m                                Traceback (most recent call last)",
            "\u001b[0;32m<ipython-input-62-b2cfdc05e024>\u001b[0m in \u001b[0;36m<cell line: 2>\u001b[0;34m()\u001b[0m\n\u001b[1;32m      1\u001b[0m \u001b[0;31m## stack  tensor on top of each other\u001b[0m\u001b[0;34m\u001b[0m\u001b[0;34m\u001b[0m\u001b[0m\n\u001b[0;32m----> 2\u001b[0;31m \u001b[0mx_stacked\u001b[0m \u001b[0;34m=\u001b[0m \u001b[0mtorch\u001b[0m\u001b[0;34m.\u001b[0m\u001b[0mstack\u001b[0m\u001b[0;34m(\u001b[0m\u001b[0;34m[\u001b[0m\u001b[0mx\u001b[0m\u001b[0;34m,\u001b[0m\u001b[0mx\u001b[0m\u001b[0;34m,\u001b[0m\u001b[0mx\u001b[0m\u001b[0;34m,\u001b[0m\u001b[0mx\u001b[0m\u001b[0;34m,\u001b[0m\u001b[0mx\u001b[0m\u001b[0;34m]\u001b[0m\u001b[0;34m,\u001b[0m\u001b[0mdim\u001b[0m\u001b[0;34m=\u001b[0m\u001b[0;36m2\u001b[0m\u001b[0;34m)\u001b[0m\u001b[0;34m\u001b[0m\u001b[0;34m\u001b[0m\u001b[0m\n\u001b[0m\u001b[1;32m      3\u001b[0m \u001b[0mx_stacked\u001b[0m\u001b[0;34m\u001b[0m\u001b[0;34m\u001b[0m\u001b[0m\n",
            "\u001b[0;31mIndexError\u001b[0m: Dimension out of range (expected to be in range of [-2, 1], but got 2)"
          ]
        }
      ]
    },
    {
      "cell_type": "code",
      "source": [
        "x_stacked = torch.stack([x,x,x,x,x],dim=0)   # stach tensor 依照 dim排序\n",
        "x_stacked\n"
      ],
      "metadata": {
        "id": "um5BZ8wVX1oN",
        "colab": {
          "base_uri": "https://localhost:8080/"
        },
        "outputId": "6524f517-3e52-4ca5-b9d3-f893b574840d"
      },
      "execution_count": 63,
      "outputs": [
        {
          "output_type": "execute_result",
          "data": {
            "text/plain": [
              "tensor([[5., 5., 5., 5., 5., 5., 5., 5., 5.],\n",
              "        [5., 5., 5., 5., 5., 5., 5., 5., 5.],\n",
              "        [5., 5., 5., 5., 5., 5., 5., 5., 5.],\n",
              "        [5., 5., 5., 5., 5., 5., 5., 5., 5.],\n",
              "        [5., 5., 5., 5., 5., 5., 5., 5., 5.]])"
            ]
          },
          "metadata": {},
          "execution_count": 63
        }
      ]
    },
    {
      "cell_type": "code",
      "source": [
        "# torch.sueeze() ＃　降維  remove all single dimension from a target tensor\n",
        "print(f\"previous: {z}\")\n",
        "print(f\"previous_shape: {z.shape}\")\n",
        "print(f\"after: {torch.squeeze(z)}\")\n",
        "print(f\"after_shape: {torch.squeeze(z).shape}\")\n"
      ],
      "metadata": {
        "id": "t9MDSaYVX8Zk",
        "colab": {
          "base_uri": "https://localhost:8080/"
        },
        "outputId": "a58e50b0-a637-4656-d9a7-09b5ad97a3ba"
      },
      "execution_count": 64,
      "outputs": [
        {
          "output_type": "stream",
          "name": "stdout",
          "text": [
            "previous: tensor([[5., 5., 5., 5., 5., 5., 5., 5., 5.]])\n",
            "previous_shape: torch.Size([1, 9])\n",
            "after: tensor([5., 5., 5., 5., 5., 5., 5., 5., 5.])\n",
            "after_shape: torch.Size([9])\n"
          ]
        }
      ]
    },
    {
      "cell_type": "code",
      "source": [
        "#　torch.unsqueeze() add a single dimension to a target tensor at a specific dim\n",
        "tensor_un = torch.rand(size=(3,4))\n",
        "tensor_un\n"
      ],
      "metadata": {
        "colab": {
          "base_uri": "https://localhost:8080/"
        },
        "id": "_vLItrMczJzg",
        "outputId": "e52efb0c-30e7-462d-964b-60b7ecfc6b1a"
      },
      "execution_count": 65,
      "outputs": [
        {
          "output_type": "execute_result",
          "data": {
            "text/plain": [
              "tensor([[0.2951, 0.6972, 0.9517, 0.9162],\n",
              "        [0.1136, 0.6039, 0.4521, 0.0025],\n",
              "        [0.6767, 0.0893, 0.5257, 0.1506]])"
            ]
          },
          "metadata": {},
          "execution_count": 65
        }
      ]
    },
    {
      "cell_type": "code",
      "source": [
        "unsqueeze = torch.squeeze(tensor_un)\n",
        "unsqueeze.shape"
      ],
      "metadata": {
        "colab": {
          "base_uri": "https://localhost:8080/"
        },
        "id": "-Pu0w0zRzOfB",
        "outputId": "42b78185-3a5e-42b1-80b3-d972025b3118"
      },
      "execution_count": 66,
      "outputs": [
        {
          "output_type": "execute_result",
          "data": {
            "text/plain": [
              "torch.Size([3, 4])"
            ]
          },
          "metadata": {},
          "execution_count": 66
        }
      ]
    },
    {
      "cell_type": "code",
      "source": [
        "unsqueeze.unsqueeze(dim=0),unsqueeze.unsqueeze(dim=0).shape"
      ],
      "metadata": {
        "colab": {
          "base_uri": "https://localhost:8080/"
        },
        "id": "LziL2ZnHzWy1",
        "outputId": "ecb28b41-e78e-452b-f1c1-f832daa5776b"
      },
      "execution_count": 67,
      "outputs": [
        {
          "output_type": "execute_result",
          "data": {
            "text/plain": [
              "(tensor([[[0.2951, 0.6972, 0.9517, 0.9162],\n",
              "          [0.1136, 0.6039, 0.4521, 0.0025],\n",
              "          [0.6767, 0.0893, 0.5257, 0.1506]]]),\n",
              " torch.Size([1, 3, 4]))"
            ]
          },
          "metadata": {},
          "execution_count": 67
        }
      ]
    },
    {
      "cell_type": "code",
      "source": [
        "unsqueeze.unsqueeze(dim=1),unsqueeze.unsqueeze(dim=1).shape"
      ],
      "metadata": {
        "colab": {
          "base_uri": "https://localhost:8080/"
        },
        "id": "WF67nr928Zfi",
        "outputId": "5599c1cd-f3bb-4ffb-e2d9-b076e1c7ab73"
      },
      "execution_count": 68,
      "outputs": [
        {
          "output_type": "execute_result",
          "data": {
            "text/plain": [
              "(tensor([[[0.2951, 0.6972, 0.9517, 0.9162]],\n",
              " \n",
              "         [[0.1136, 0.6039, 0.4521, 0.0025]],\n",
              " \n",
              "         [[0.6767, 0.0893, 0.5257, 0.1506]]]),\n",
              " torch.Size([3, 1, 4]))"
            ]
          },
          "metadata": {},
          "execution_count": 68
        }
      ]
    },
    {
      "cell_type": "code",
      "source": [
        "unsqueeze.unsqueeze(dim=2),unsqueeze.unsqueeze(dim=2).shape"
      ],
      "metadata": {
        "colab": {
          "base_uri": "https://localhost:8080/"
        },
        "id": "veTBMx9y8kLY",
        "outputId": "5d755dc1-ba25-4958-c5fa-37f6f9f792b0"
      },
      "execution_count": 69,
      "outputs": [
        {
          "output_type": "execute_result",
          "data": {
            "text/plain": [
              "(tensor([[[0.2951],\n",
              "          [0.6972],\n",
              "          [0.9517],\n",
              "          [0.9162]],\n",
              " \n",
              "         [[0.1136],\n",
              "          [0.6039],\n",
              "          [0.4521],\n",
              "          [0.0025]],\n",
              " \n",
              "         [[0.6767],\n",
              "          [0.0893],\n",
              "          [0.5257],\n",
              "          [0.1506]]]),\n",
              " torch.Size([3, 4, 1]))"
            ]
          },
          "metadata": {},
          "execution_count": 69
        }
      ]
    },
    {
      "cell_type": "markdown",
      "source": [
        "## torch.permute - rearranges the dimension of atagett tensor in a specific order"
      ],
      "metadata": {
        "id": "vY-tQJDN-AT2"
      }
    },
    {
      "cell_type": "code",
      "source": [
        "x = torch.rand(2,3,5)\n",
        "x"
      ],
      "metadata": {
        "colab": {
          "base_uri": "https://localhost:8080/"
        },
        "id": "DyRrUQcv87SE",
        "outputId": "54ad3905-93c2-42db-8566-69910fcfa143"
      },
      "execution_count": 70,
      "outputs": [
        {
          "output_type": "execute_result",
          "data": {
            "text/plain": [
              "tensor([[[0.4750, 0.8096, 0.1109, 0.1164, 0.6975],\n",
              "         [0.6905, 0.3625, 0.8577, 0.4302, 0.4543],\n",
              "         [0.6913, 0.4439, 0.5767, 0.4443, 0.0316]],\n",
              "\n",
              "        [[0.1689, 0.3098, 0.8306, 0.2205, 0.2940],\n",
              "         [0.6938, 0.2311, 0.5892, 0.0502, 0.6441],\n",
              "         [0.9823, 0.7702, 0.7723, 0.6938, 0.7296]]])"
            ]
          },
          "metadata": {},
          "execution_count": 70
        }
      ]
    },
    {
      "cell_type": "code",
      "source": [
        "x.size()"
      ],
      "metadata": {
        "colab": {
          "base_uri": "https://localhost:8080/"
        },
        "id": "Gi7UL7se-XyK",
        "outputId": "4816651a-163a-4452-f304-598b8b186cb8"
      },
      "execution_count": 71,
      "outputs": [
        {
          "output_type": "execute_result",
          "data": {
            "text/plain": [
              "torch.Size([2, 3, 5])"
            ]
          },
          "metadata": {},
          "execution_count": 71
        }
      ]
    },
    {
      "cell_type": "code",
      "source": [
        "torch.permute(x,(2,0,1)).size() #shift axis 0->1,1->2,2->0"
      ],
      "metadata": {
        "colab": {
          "base_uri": "https://localhost:8080/"
        },
        "id": "gASMggBM-amo",
        "outputId": "12487008-07dd-4b5a-b834-2adcb66a6fe2"
      },
      "execution_count": 72,
      "outputs": [
        {
          "output_type": "execute_result",
          "data": {
            "text/plain": [
              "torch.Size([5, 2, 3])"
            ]
          },
          "metadata": {},
          "execution_count": 72
        }
      ]
    },
    {
      "cell_type": "code",
      "source": [
        "torch.permute(x,(2,0,1)).shape"
      ],
      "metadata": {
        "colab": {
          "base_uri": "https://localhost:8080/"
        },
        "id": "XJDeLwli-gFM",
        "outputId": "b2c6785b-e897-4eb5-f8c0-ce9b4a1c227d"
      },
      "execution_count": 73,
      "outputs": [
        {
          "output_type": "execute_result",
          "data": {
            "text/plain": [
              "torch.Size([5, 2, 3])"
            ]
          },
          "metadata": {},
          "execution_count": 73
        }
      ]
    },
    {
      "cell_type": "markdown",
      "source": [
        "Indexing (selecting data from tensors)\n",
        "indexing with pytorch is similar to indexing with Numpy\n"
      ],
      "metadata": {
        "id": "thN15o1G_YvC"
      }
    },
    {
      "cell_type": "code",
      "source": [
        "# create s tensor\n",
        "import torch\n",
        "x=torch.arange(1,10).reshape(1,3,3)\n",
        "x,x.shape"
      ],
      "metadata": {
        "colab": {
          "base_uri": "https://localhost:8080/"
        },
        "id": "sdpxgcl5-g6v",
        "outputId": "11340909-11b8-4561-de3f-c5b585c16cf2"
      },
      "execution_count": 74,
      "outputs": [
        {
          "output_type": "execute_result",
          "data": {
            "text/plain": [
              "(tensor([[[1, 2, 3],\n",
              "          [4, 5, 6],\n",
              "          [7, 8, 9]]]),\n",
              " torch.Size([1, 3, 3]))"
            ]
          },
          "metadata": {},
          "execution_count": 74
        }
      ]
    },
    {
      "cell_type": "code",
      "source": [
        "# let index on our new tensor\n",
        "x[0]"
      ],
      "metadata": {
        "colab": {
          "base_uri": "https://localhost:8080/"
        },
        "id": "i_WRxoa7APR0",
        "outputId": "44475856-b18b-4a2e-b4c0-73b6dff40fc2"
      },
      "execution_count": 75,
      "outputs": [
        {
          "output_type": "execute_result",
          "data": {
            "text/plain": [
              "tensor([[1, 2, 3],\n",
              "        [4, 5, 6],\n",
              "        [7, 8, 9]])"
            ]
          },
          "metadata": {},
          "execution_count": 75
        }
      ]
    },
    {
      "cell_type": "code",
      "source": [
        "# index on our tensor (dim=1 )\n",
        "x[0,0],x[0][0]"
      ],
      "metadata": {
        "colab": {
          "base_uri": "https://localhost:8080/"
        },
        "id": "nM0HNOm9_vTc",
        "outputId": "add47745-7f58-4d1b-db53-4fffa7c67471"
      },
      "execution_count": 76,
      "outputs": [
        {
          "output_type": "execute_result",
          "data": {
            "text/plain": [
              "(tensor([1, 2, 3]), tensor([1, 2, 3]))"
            ]
          },
          "metadata": {},
          "execution_count": 76
        }
      ]
    },
    {
      "cell_type": "code",
      "source": [
        "#　let index on the most inner bracket (last dimension)\n",
        "x[0,0,1]"
      ],
      "metadata": {
        "colab": {
          "base_uri": "https://localhost:8080/"
        },
        "id": "ZEgnXthc_8sK",
        "outputId": "661502fa-e2c5-444e-cc1d-8741b7e9d018"
      },
      "execution_count": 77,
      "outputs": [
        {
          "output_type": "execute_result",
          "data": {
            "text/plain": [
              "tensor(2)"
            ]
          },
          "metadata": {},
          "execution_count": 77
        }
      ]
    },
    {
      "cell_type": "code",
      "source": [
        "#　you can also use : to select all of a target dimension\n",
        "x[:,0]"
      ],
      "metadata": {
        "colab": {
          "base_uri": "https://localhost:8080/"
        },
        "id": "kt7fdbL9ALp2",
        "outputId": "946ade52-1eb8-4e26-8db0-faf275eae4a7"
      },
      "execution_count": 78,
      "outputs": [
        {
          "output_type": "execute_result",
          "data": {
            "text/plain": [
              "tensor([[1, 2, 3]])"
            ]
          },
          "metadata": {},
          "execution_count": 78
        }
      ]
    },
    {
      "cell_type": "code",
      "source": [
        "#　get all values of 0th and 1st dmension but only index 1 of 2nd dimension\n",
        "x[:,:,1]"
      ],
      "metadata": {
        "colab": {
          "base_uri": "https://localhost:8080/"
        },
        "id": "3tQUbFuBAnEs",
        "outputId": "d5e3bd17-e148-4cab-9ee8-89def4b393a9"
      },
      "execution_count": 79,
      "outputs": [
        {
          "output_type": "execute_result",
          "data": {
            "text/plain": [
              "tensor([[2, 5, 8]])"
            ]
          },
          "metadata": {},
          "execution_count": 79
        }
      ]
    },
    {
      "cell_type": "code",
      "source": [
        "# get all values of the 0 dim but only 1 index value of 1 st and 2nd dim\n",
        "x[:,:,1]"
      ],
      "metadata": {
        "colab": {
          "base_uri": "https://localhost:8080/"
        },
        "id": "NLs_LzztBgFS",
        "outputId": "b372e114-2cba-490a-fd16-eac4db9fd5c3"
      },
      "execution_count": 80,
      "outputs": [
        {
          "output_type": "execute_result",
          "data": {
            "text/plain": [
              "tensor([[2, 5, 8]])"
            ]
          },
          "metadata": {},
          "execution_count": 80
        }
      ]
    },
    {
      "cell_type": "code",
      "source": [
        "#　get index 0 of 0th and 1st dim all values of 2nd dim\n",
        "x[0,0,:]"
      ],
      "metadata": {
        "colab": {
          "base_uri": "https://localhost:8080/"
        },
        "id": "OItqjG_6CEjF",
        "outputId": "acdcbe48-6245-4ecf-cd53-9307e85ed3b5"
      },
      "execution_count": 81,
      "outputs": [
        {
          "output_type": "execute_result",
          "data": {
            "text/plain": [
              "tensor([1, 2, 3])"
            ]
          },
          "metadata": {},
          "execution_count": 81
        }
      ]
    },
    {
      "cell_type": "code",
      "source": [
        "#　index on x to  return 9\n",
        "print(x[0,2,2])\n",
        "#　return 3,6,9\n",
        "print(x[:,:,2])\n"
      ],
      "metadata": {
        "colab": {
          "base_uri": "https://localhost:8080/"
        },
        "id": "hAw0SyZCHOhp",
        "outputId": "13ca7312-d4c7-496a-eb24-6dab75015aab"
      },
      "execution_count": 82,
      "outputs": [
        {
          "output_type": "stream",
          "name": "stdout",
          "text": [
            "tensor(9)\n",
            "tensor([[3, 6, 9]])\n"
          ]
        }
      ]
    },
    {
      "cell_type": "markdown",
      "source": [
        "## Pytorch tensor & Numpy\n",
        "Numpy is a popular sciebtic Pytho numercial computing library\n",
        "And because og this,Pytorch  has functionality to interact with it .\n",
        "- Data is Numpy , want is Pytorch tensor -> `torch.from_numpy(ndarray)`\n",
        "- Pytorch tensor -> Numpy -> `torch.tensor.numpy()`"
      ],
      "metadata": {
        "id": "aKhccs6OIasa"
      }
    },
    {
      "cell_type": "code",
      "source": [
        "#　Numpy array to tensor\n",
        "import torch\n",
        "import numpy as np\n",
        "\n",
        "array = np.arange(1.0,8.0)\n",
        "tensor = torch.from_numpy(array) #　warning: when convert from numpy -> pytorch,torch reflects numpy's default datatype of float64 unless specified otherwise\n",
        "array,tensor"
      ],
      "metadata": {
        "colab": {
          "base_uri": "https://localhost:8080/"
        },
        "id": "2SuYXFBjHWJ-",
        "outputId": "14bd3a53-6d2b-4a6a-b2ed-cba513f80f4c"
      },
      "execution_count": 83,
      "outputs": [
        {
          "output_type": "execute_result",
          "data": {
            "text/plain": [
              "(array([1., 2., 3., 4., 5., 6., 7.]),\n",
              " tensor([1., 2., 3., 4., 5., 6., 7.], dtype=torch.float64))"
            ]
          },
          "metadata": {},
          "execution_count": 83
        }
      ]
    },
    {
      "cell_type": "code",
      "source": [
        "#　change the value of array,what will this do to ``tensor\n",
        "array.dtype"
      ],
      "metadata": {
        "colab": {
          "base_uri": "https://localhost:8080/"
        },
        "id": "Urc7g4D4J9IS",
        "outputId": "8dd4f9a4-cdaf-4693-a5f1-5d9720b2f64e"
      },
      "execution_count": 84,
      "outputs": [
        {
          "output_type": "execute_result",
          "data": {
            "text/plain": [
              "dtype('float64')"
            ]
          },
          "metadata": {},
          "execution_count": 84
        }
      ]
    },
    {
      "cell_type": "code",
      "source": [
        "array=array+1\n",
        "array"
      ],
      "metadata": {
        "colab": {
          "base_uri": "https://localhost:8080/"
        },
        "id": "UqfrzY0GKRgr",
        "outputId": "cfb259fb-8bc3-4dc0-baca-b69b73fb2e7f"
      },
      "execution_count": 85,
      "outputs": [
        {
          "output_type": "execute_result",
          "data": {
            "text/plain": [
              "array([2., 3., 4., 5., 6., 7., 8.])"
            ]
          },
          "metadata": {},
          "execution_count": 85
        }
      ]
    },
    {
      "cell_type": "code",
      "source": [
        "# Tensor to numpy array\n",
        "tensor = torch.ones(7)\n",
        "numpy_tensor = tensor.numpy()\n",
        "tensor,numpy_tensor"
      ],
      "metadata": {
        "colab": {
          "base_uri": "https://localhost:8080/"
        },
        "id": "8yFKv67kKUvq",
        "outputId": "7c664a2d-e19b-4ed5-86f2-2c28965e1293"
      },
      "execution_count": 86,
      "outputs": [
        {
          "output_type": "execute_result",
          "data": {
            "text/plain": [
              "(tensor([1., 1., 1., 1., 1., 1., 1.]),\n",
              " array([1., 1., 1., 1., 1., 1., 1.], dtype=float32))"
            ]
          },
          "metadata": {},
          "execution_count": 86
        }
      ]
    },
    {
      "cell_type": "code",
      "source": [
        "# change the tensor ,what happens to `numpy_tensor`?\n",
        "tensor = tensor +1\n",
        "tensor\n"
      ],
      "metadata": {
        "colab": {
          "base_uri": "https://localhost:8080/"
        },
        "id": "oxvZyzgELvkc",
        "outputId": "39158f50-9eb3-45ba-d76a-ea8864a2ff7d"
      },
      "execution_count": 87,
      "outputs": [
        {
          "output_type": "execute_result",
          "data": {
            "text/plain": [
              "tensor([2., 2., 2., 2., 2., 2., 2.])"
            ]
          },
          "metadata": {},
          "execution_count": 87
        }
      ]
    },
    {
      "cell_type": "markdown",
      "source": [
        "## Reproducbility(trying to take random out of random)\n",
        "in short how a neural networks learns:\n",
        "`start with random numbers -> tensor operationd -> update random numbers\n",
        " to try and make them of the data -> again -> again-> again ...`\n",
        "\n",
        " To reduce the randomness in neural networks and Pytorch comes the concept of a `random seed`.\n",
        "  \n",
        " Essentially what the random seed does is \"flavour\" the randomness"
      ],
      "metadata": {
        "id": "vMU7b7JnORd8"
      }
    },
    {
      "cell_type": "code",
      "source": [
        "torch.rand(3,3)"
      ],
      "metadata": {
        "colab": {
          "base_uri": "https://localhost:8080/"
        },
        "id": "8IR53MNEM3vP",
        "outputId": "e1eba580-9839-4d1e-8484-2a206df25df1"
      },
      "execution_count": 88,
      "outputs": [
        {
          "output_type": "execute_result",
          "data": {
            "text/plain": [
              "tensor([[0.8970, 0.0023, 0.4085],\n",
              "        [0.9178, 0.2139, 0.5205],\n",
              "        [0.7732, 0.7566, 0.1504]])"
            ]
          },
          "metadata": {},
          "execution_count": 88
        }
      ]
    },
    {
      "cell_type": "code",
      "source": [
        "import torch\n",
        "random_tensor_A = torch.rand(3,4)\n",
        "random_tensor_B = torch.rand(3,4)\n",
        "\n",
        "print(random_tensor_A)\n",
        "print(random_tensor_B)\n",
        "print(random_tensor_A == random_tensor_B)\n"
      ],
      "metadata": {
        "colab": {
          "base_uri": "https://localhost:8080/"
        },
        "id": "YjjFIF-0OrWK",
        "outputId": "aa4b2254-efef-4611-9f74-c4a58fdda660"
      },
      "execution_count": 89,
      "outputs": [
        {
          "output_type": "stream",
          "name": "stdout",
          "text": [
            "tensor([[0.5843, 0.6130, 0.5382, 0.3975],\n",
            "        [0.3350, 0.5562, 0.0929, 0.8201],\n",
            "        [0.4948, 0.2562, 0.3231, 0.3285]])\n",
            "tensor([[0.2891, 0.2995, 0.8337, 0.2475],\n",
            "        [0.7157, 0.7858, 0.1866, 0.6250],\n",
            "        [0.1417, 0.9223, 0.3451, 0.6676]])\n",
            "tensor([[False, False, False, False],\n",
            "        [False, False, False, False],\n",
            "        [False, False, False, False]])\n"
          ]
        }
      ]
    },
    {
      "cell_type": "code",
      "source": [
        "#  let make some random ut reproducible tensors\n",
        "import torch\n",
        "#　set the random seed  #random seed 調用一次ran後需重新指定\n",
        "random_seed =42\n",
        "torch.manual_seed(random_seed)\n",
        "random_tensor_C =torch.rand(3,4)\n",
        "\n",
        "torch.manual_seed(random_seed)\n",
        "random_tensor_D =torch.rand(3,4)\n",
        "\n",
        "print(random_tensor_C)\n",
        "print(random_tensor_D)\n",
        "print(random_tensor_C == random_tensor_D)"
      ],
      "metadata": {
        "colab": {
          "base_uri": "https://localhost:8080/"
        },
        "id": "eD0Uq6-9Pbce",
        "outputId": "612724dd-01c2-4f76-c123-b167749e6ee3"
      },
      "execution_count": 90,
      "outputs": [
        {
          "output_type": "stream",
          "name": "stdout",
          "text": [
            "tensor([[0.8823, 0.9150, 0.3829, 0.9593],\n",
            "        [0.3904, 0.6009, 0.2566, 0.7936],\n",
            "        [0.9408, 0.1332, 0.9346, 0.5936]])\n",
            "tensor([[0.8823, 0.9150, 0.3829, 0.9593],\n",
            "        [0.3904, 0.6009, 0.2566, 0.7936],\n",
            "        [0.9408, 0.1332, 0.9346, 0.5936]])\n",
            "tensor([[True, True, True, True],\n",
            "        [True, True, True, True],\n",
            "        [True, True, True, True]])\n"
          ]
        }
      ]
    },
    {
      "cell_type": "markdown",
      "source": [
        "## Running tensors and Pytorch object on the GPUs (and making faster computations)\n",
        "\n",
        "GPU =  Faster computation on numbers ,thanks to CUDA + NVDIA handware + PyTorch working behind the scenes to make everything hunky dory(good)"
      ],
      "metadata": {
        "id": "FPuG1y6DUJYY"
      }
    },
    {
      "cell_type": "code",
      "source": [
        "##　Running tensors and Pytorch object on the GPUs (and making faster computations)"
      ],
      "metadata": {
        "id": "qVHjnzIuT56Z"
      },
      "execution_count": 91,
      "outputs": []
    },
    {
      "cell_type": "markdown",
      "source": [
        "## Getting a GPU\n",
        "#1. Use google.colab\n",
        "#2. use your ownn\n",
        "#3. use cloud computing - GCP,AWS,Azure\n"
      ],
      "metadata": {
        "id": "pUlgvideXcjp"
      }
    },
    {
      "cell_type": "code",
      "source": [
        "#　xheck for GPU acces with Pytorch\n",
        "import torch\n",
        "torch.cuda.is_available()"
      ],
      "metadata": {
        "colab": {
          "base_uri": "https://localhost:8080/"
        },
        "id": "MfqOYJ2eXE3f",
        "outputId": "dbe0b79b-0540-4946-fc74-cb055cfad978"
      },
      "execution_count": 92,
      "outputs": [
        {
          "output_type": "execute_result",
          "data": {
            "text/plain": [
              "True"
            ]
          },
          "metadata": {},
          "execution_count": 92
        }
      ]
    },
    {
      "cell_type": "code",
      "source": [
        "# setup device agnostic code\n",
        "device = \"cuda\" if torch.cuda.is_available() else \"cpu\"\n",
        "device"
      ],
      "metadata": {
        "colab": {
          "base_uri": "https://localhost:8080/",
          "height": 35
        },
        "id": "KgOc4A4sYc9A",
        "outputId": "c8320eb3-81f8-4a26-d893-6a9f93e055c9"
      },
      "execution_count": 93,
      "outputs": [
        {
          "output_type": "execute_result",
          "data": {
            "text/plain": [
              "'cuda'"
            ],
            "application/vnd.google.colaboratory.intrinsic+json": {
              "type": "string"
            }
          },
          "metadata": {},
          "execution_count": 93
        }
      ]
    },
    {
      "cell_type": "code",
      "source": [
        "# count number of  devices\n",
        "torch.cuda.device_count()"
      ],
      "metadata": {
        "colab": {
          "base_uri": "https://localhost:8080/"
        },
        "id": "yawOGIaPYoYw",
        "outputId": "a0844b98-dea7-46fa-aab5-7e1e9d643c2a"
      },
      "execution_count": 94,
      "outputs": [
        {
          "output_type": "execute_result",
          "data": {
            "text/plain": [
              "1"
            ]
          },
          "metadata": {},
          "execution_count": 94
        }
      ]
    },
    {
      "cell_type": "markdown",
      "source": [
        "\n",
        "#3. Ptting tensors (and models) on the GPU\n",
        "the reason we want our tensor/models on the GPU is beacauswe using a GPU results in faster computaations"
      ],
      "metadata": {
        "id": "GjgckpCEa1Uo"
      }
    },
    {
      "cell_type": "code",
      "source": [
        "#  create a tensor (defaulrs on the cpu)\n",
        "tensor = torch.tensor([1,2,3])\n",
        "\n",
        "# tensor not on gpu\n",
        "print(tensor,tensor.device)"
      ],
      "metadata": {
        "colab": {
          "base_uri": "https://localhost:8080/"
        },
        "id": "vfX5vE7va99i",
        "outputId": "96c277ef-fda8-4682-ba7b-852efa2107c0"
      },
      "execution_count": 95,
      "outputs": [
        {
          "output_type": "stream",
          "name": "stdout",
          "text": [
            "tensor([1, 2, 3]) cpu\n"
          ]
        }
      ]
    },
    {
      "cell_type": "code",
      "source": [
        "# tensor  on gpu\n",
        "tensor_on_GPU = tensor.to(device)\n",
        "tensor_on_GPU"
      ],
      "metadata": {
        "colab": {
          "base_uri": "https://localhost:8080/"
        },
        "id": "vd_9nKzpbMDu",
        "outputId": "96bf5453-42c0-45fd-f99d-26d41f48c662"
      },
      "execution_count": 96,
      "outputs": [
        {
          "output_type": "execute_result",
          "data": {
            "text/plain": [
              "tensor([1, 2, 3], device='cuda:0')"
            ]
          },
          "metadata": {},
          "execution_count": 96
        }
      ]
    },
    {
      "cell_type": "markdown",
      "source": [
        "4. Moving tensors back to the GPU\n"
      ],
      "metadata": {
        "id": "ihHSCUOsbxMR"
      }
    },
    {
      "cell_type": "code",
      "source": [
        "#４．if tensor is on GPU, can't tranform it  to numpy\n",
        "tensor_on_GPU.numpy()"
      ],
      "metadata": {
        "colab": {
          "base_uri": "https://localhost:8080/",
          "height": 195
        },
        "id": "BBlhbc7ZbXoU",
        "outputId": "7343d9b3-1ab0-44a4-daa7-906649093339"
      },
      "execution_count": 97,
      "outputs": [
        {
          "output_type": "error",
          "ename": "TypeError",
          "evalue": "ignored",
          "traceback": [
            "\u001b[0;31m---------------------------------------------------------------------------\u001b[0m",
            "\u001b[0;31mTypeError\u001b[0m                                 Traceback (most recent call last)",
            "\u001b[0;32m<ipython-input-97-4fdf91fac11a>\u001b[0m in \u001b[0;36m<cell line: 2>\u001b[0;34m()\u001b[0m\n\u001b[1;32m      1\u001b[0m \u001b[0;31m#４．if tensor is on GPU, can't tranform it  to numpy\u001b[0m\u001b[0;34m\u001b[0m\u001b[0;34m\u001b[0m\u001b[0m\n\u001b[0;32m----> 2\u001b[0;31m \u001b[0mtensor_on_GPU\u001b[0m\u001b[0;34m.\u001b[0m\u001b[0mnumpy\u001b[0m\u001b[0;34m(\u001b[0m\u001b[0;34m)\u001b[0m\u001b[0;34m\u001b[0m\u001b[0;34m\u001b[0m\u001b[0m\n\u001b[0m",
            "\u001b[0;31mTypeError\u001b[0m: can't convert cuda:0 device type tensor to numpy. Use Tensor.cpu() to copy the tensor to host memory first."
          ]
        }
      ]
    },
    {
      "cell_type": "code",
      "source": [
        "#　TO fix the GPU tensor with Numpy issue ,we canm fitst set it to the gpu\n",
        "tensor_on_GPU.cpu()"
      ],
      "metadata": {
        "colab": {
          "base_uri": "https://localhost:8080/"
        },
        "id": "e8nPRgJhckxX",
        "outputId": "32517414-600e-4475-a408-f8b5249667f1"
      },
      "execution_count": 98,
      "outputs": [
        {
          "output_type": "execute_result",
          "data": {
            "text/plain": [
              "tensor([1, 2, 3])"
            ]
          },
          "metadata": {},
          "execution_count": 98
        }
      ]
    },
    {
      "cell_type": "code",
      "source": [
        "tensor_on_GPU.cpu().numpy()"
      ],
      "metadata": {
        "colab": {
          "base_uri": "https://localhost:8080/"
        },
        "id": "bpLDfvp-djWt",
        "outputId": "7cf59d20-6646-4a02-88f0-ec2f88c71f55"
      },
      "execution_count": 99,
      "outputs": [
        {
          "output_type": "execute_result",
          "data": {
            "text/plain": [
              "array([1, 2, 3])"
            ]
          },
          "metadata": {},
          "execution_count": 99
        }
      ]
    },
    {
      "cell_type": "code",
      "source": [],
      "metadata": {
        "id": "bjntWrcpoXgM"
      },
      "execution_count": 99,
      "outputs": []
    }
  ]
}